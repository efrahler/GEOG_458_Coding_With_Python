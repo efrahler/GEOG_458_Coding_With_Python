{
 "cells": [
  {
   "cell_type": "markdown",
   "metadata": {},
   "source": [
    "Emmi Frahler  \n",
    "February 13, 2019  \n",
    "GEOG 458, WI19 Week 6  \n",
    "Assignment: Coding With Python"
   ]
  },
  {
   "cell_type": "markdown",
   "metadata": {},
   "source": [
    "***\n",
    "# Getting Started\n",
    "## Task 1: Possibilities with Jupyter Notebooks\n",
    "After browsing some of the Jupyter Notebooks, I felt like I didn't understand much. I went down to the 'whimsical' section, and found [People Plots](https://nbviewer.jupyter.org/gist/theandygross/4544012).  \n",
    "The author created a function to draw stick figures, with arguments that determine the position, color, and facial expression of the figures. I could tell a little bit of what was done in the code and how the three examples were different.  \n",
    "It reminded me of using the Processing language last year in CSE 120 where we similarly used programming to draw shapes."
   ]
  },
  {
   "cell_type": "markdown",
   "metadata": {},
   "source": [
    "## Task 2: Useful Packages and Libraries\n",
    "\n",
    "* [Common Python packages](https://pythontips.com/2018/06/03/top-14-most-famous-python-libraries-frameworks/) include [Requests](http://docs.python-requests.org/en/master/) for sending HTTP requests, [NumPy](http://www.numpy.org/) for mathematical and scientific purposes, and [Matplotlib](https://matplotlib.org/) to easily create two-dimensional plots.\n",
    "\n",
    "* >[plotnine](https://plotnine.readthedocs.io/en/stable/) is an implementation of a grammar of graphics in Python, it is based on ggplot2. The grammar allows users to compose plots by explicitly mapping data to the visual objects that make up the plot.  \n",
    ">Plotting with a grammar is powerful, it makes custom (and otherwise complex) plots are easy to think about and then create, while the simple plots remain simple.\n",
    "\n",
    "* The [pandas](http://pandas.pydata.org/about.html) library allows for a data structure similar to a dataframe in R. The [DataFrame](https://pandas.pydata.org/pandas-docs/version/0.23.4/dsintro.html#dataframe) structure is a very common use for pandas."
   ]
  },
  {
   "cell_type": "markdown",
   "metadata": {},
   "source": [
    "## Task 3: Syntax Differences\n",
    "\n",
    "###### Calling Packages\n",
    "* Python: `import <module>`  \n",
    "* R: `library(<library>)`  \n",
    "\n",
    "###### Assigning Variables\n",
    "* Python: `x = <value>`  \n",
    "* R: `x <- <value>`  \n",
    "\n",
    "In R, `<-` and `=` mean slightly different things.  \n",
    "Python simply uses the `=` to assign values to a variable.  \n",
    "###### Getting More Information\n",
    "* Python: `print <module>.<function>.__doc__`  \n",
    "* R: `?<function>`  \n",
    "\n",
    "In Python, the `__doc__` statement provides a description of a function. However, it must be printed to the console in order to be viewed.  \n",
    "Using a question mark in before the name of a function will open up the help page in R, separate from the console."
   ]
  },
  {
   "cell_type": "markdown",
   "metadata": {},
   "source": [
    "***\n",
    "# Strings and Basic Syntax\n",
    "## Task 4: Character Strings"
   ]
  },
  {
   "cell_type": "code",
   "execution_count": 83,
   "metadata": {},
   "outputs": [
    {
     "name": "stdout",
     "output_type": "stream",
     "text": [
      "I recently learned how to lead climb, but I also enjoy doing top rope because it's a lot less scary than bouldering\n"
     ]
    }
   ],
   "source": [
    "x, y, z = \"lead climb\", \"top rope\", \"bouldering\" # sets objects to store strings\n",
    "print \"I recently learned how to \" + x + \", but I also enjoy doing \" + y + \" because it's a lot less scary than \" + z # prints the objects in sequence to form a sentence"
   ]
  },
  {
   "cell_type": "markdown",
   "metadata": {},
   "source": [
    "## Task 5: Manipulating Strings"
   ]
  },
  {
   "cell_type": "code",
   "execution_count": 84,
   "metadata": {},
   "outputs": [
    {
     "name": "stdout",
     "output_type": "stream",
     "text": [
      "I recently learned how to lead climb, but I also enjoy doing top rope because it's a lot less scary than bouldering. My current level for top rope is around 5.9 on the Yosemite Decimal System.\n"
     ]
    }
   ],
   "source": [
    "grade = 5.9 # object to store a number\n",
    "print \"I recently learned how to \" + x + \", but I also enjoy doing \" + y + \" because it's a lot less scary than \" + z + \". My current level for \" + y + \" is around \" + str(grade) + \" on the Yosemite Decimal System.\""
   ]
  },
  {
   "cell_type": "code",
   "execution_count": 85,
   "metadata": {},
   "outputs": [
    {
     "name": "stdout",
     "output_type": "stream",
     "text": [
      "I RECENTLY LEARNED HOW TO LEAD CLIMB, BUT I ALSO ENJOY DOING TOP ROPE BECAUSE IT'S A LOT LESS SCARY THAN BOULDERING. MY CURRENT LEVEL FOR TOP ROPE IS AROUND 5.9 ON THE YOSEMITE DECIMAL SYSTEM.\n"
     ]
    }
   ],
   "source": [
    "print (\"I recently learned how to \" + x + \", but I also enjoy doing \" + y + \" because it's a lot less scary than \" + z + \". My current level for \" + y + \" is around \" + str(grade) + \" on the Yosemite Decimal System.\").upper()"
   ]
  },
  {
   "cell_type": "markdown",
   "metadata": {},
   "source": [
    "## Task 6: Strings to Lists"
   ]
  },
  {
   "cell_type": "code",
   "execution_count": 109,
   "metadata": {},
   "outputs": [
    {
     "data": {
      "text/plain": [
       "'lead climb top rope bouldering 5.9'"
      ]
     },
     "execution_count": 109,
     "metadata": {},
     "output_type": "execute_result"
    }
   ],
   "source": [
    "my_list = [x, y, z, str(grade)] # puts variables into a list object\n",
    "long_string = \" \"\n",
    "long_string.join(my_list) # joins the elements of the list into a single string"
   ]
  },
  {
   "cell_type": "code",
   "execution_count": 87,
   "metadata": {},
   "outputs": [
    {
     "data": {
      "text/plain": [
       "1"
      ]
     },
     "execution_count": 87,
     "metadata": {},
     "output_type": "execute_result"
    }
   ],
   "source": [
    "long_string.count('c') # returns the count of occurrences of the given string"
   ]
  },
  {
   "cell_type": "code",
   "execution_count": 88,
   "metadata": {},
   "outputs": [
    {
     "data": {
      "text/plain": [
       "20"
      ]
     },
     "execution_count": 88,
     "metadata": {},
     "output_type": "execute_result"
    }
   ],
   "source": [
    "long_string.find('boulder') # returns leftmost index of the given string"
   ]
  },
  {
   "cell_type": "markdown",
   "metadata": {},
   "source": [
    "## Task 7: Splitting the String"
   ]
  },
  {
   "cell_type": "code",
   "execution_count": 89,
   "metadata": {},
   "outputs": [
    {
     "name": "stdout",
     "output_type": "stream",
     "text": [
      "lead climb top ro\n"
     ]
    }
   ],
   "source": [
    "print long_string[0 : len(long_string) / 2] # prints only the first half of the sentence string"
   ]
  },
  {
   "cell_type": "markdown",
   "metadata": {},
   "source": [
    "## Task 8: Strip and Replace"
   ]
  },
  {
   "cell_type": "code",
   "execution_count": 90,
   "metadata": {},
   "outputs": [
    {
     "data": {
      "text/plain": [
       "'lead climb top rope bouldering '"
      ]
     },
     "execution_count": 90,
     "metadata": {},
     "output_type": "execute_result"
    }
   ],
   "source": [
    "long_string.strip(str(grade)) # removes the number from the end of the string"
   ]
  },
  {
   "cell_type": "code",
   "execution_count": 91,
   "metadata": {},
   "outputs": [
    {
     "data": {
      "text/plain": [
       "'trad climb top rope bouldering 5.9'"
      ]
     },
     "execution_count": 91,
     "metadata": {},
     "output_type": "execute_result"
    }
   ],
   "source": [
    "long_string.replace(\"lead\", \"trad\") # replaces the specified word in the string"
   ]
  },
  {
   "cell_type": "markdown",
   "metadata": {},
   "source": [
    "## Task 9: Split and Insert"
   ]
  },
  {
   "cell_type": "code",
   "execution_count": 92,
   "metadata": {},
   "outputs": [
    {
     "data": {
      "text/plain": [
       "['lead', 'climb', 'top', 'rope', 'bouldering', '5.9']"
      ]
     },
     "execution_count": 92,
     "metadata": {},
     "output_type": "execute_result"
    }
   ],
   "source": [
    "new_list = long_string.split(\" \") # splits the individual words back into the list\n",
    "new_list"
   ]
  },
  {
   "cell_type": "code",
   "execution_count": 93,
   "metadata": {},
   "outputs": [
    {
     "data": {
      "text/plain": [
       "['lead', 'climb', 'top', 'belay', 'rope', 'bouldering', '5.9']"
      ]
     },
     "execution_count": 93,
     "metadata": {},
     "output_type": "execute_result"
    }
   ],
   "source": [
    "new_list.insert(3, 'belay') # inserts a string at the specified index\n",
    "new_list"
   ]
  },
  {
   "cell_type": "markdown",
   "metadata": {},
   "source": [
    "***\n",
    "# Conditionals\n",
    "## Task 10"
   ]
  },
  {
   "cell_type": "code",
   "execution_count": 94,
   "metadata": {},
   "outputs": [
    {
     "name": "stdout",
     "output_type": "stream",
     "text": [
      "52\n",
      "3rd Quartile\n"
     ]
    }
   ],
   "source": [
    "import random\n",
    "num = random.randint(1, 100) # random integer between 1 and 100, inclusive\n",
    "print num\n",
    "if num <= 25: # between 1 and 25\n",
    "    print \"1st Quartile\"\n",
    "elif num <= 50: # between 26 and 50\n",
    "    print \"2nd Quartile\"\n",
    "elif num <= 75: # between 51 and 75\n",
    "    print \"3rd Quartile\"\n",
    "else: # 76 or greater\n",
    "    print \"4th Quartile\""
   ]
  },
  {
   "cell_type": "markdown",
   "metadata": {},
   "source": [
    "***\n",
    "# Loops\n",
    "## Task 11: Basic For-Loop"
   ]
  },
  {
   "cell_type": "code",
   "execution_count": 95,
   "metadata": {},
   "outputs": [
    {
     "name": "stdout",
     "output_type": "stream",
     "text": [
      "Warning, residents of London, temperatures will reach sub-zero temperatures today, please stay indoors if possible\n",
      "Warning, residents of Berlin, temperatures will reach sub-zero temperatures today, please stay indoors if possible\n",
      "Warning, residents of Tokyo, temperatures will reach sub-zero temperatures today, please stay indoors if possible\n",
      "Warning, residents of Boise, temperatures will reach sub-zero temperatures today, please stay indoors if possible\n",
      "Warning, residents of Jackson, temperatures will reach sub-zero temperatures today, please stay indoors if possible\n",
      "Warning, residents of Anacortes, temperatures will reach sub-zero temperatures today, please stay indoors if possible\n"
     ]
    }
   ],
   "source": [
    "locations = ['London', 'Berlin', 'Tokyo', 'Boise', 'Jackson', 'Anacortes']\n",
    "for city in locations:\n",
    "    print \"Warning, residents of \" + city + \", temperatures will reach sub-zero temperatures today, please stay indoors if possible\""
   ]
  },
  {
   "cell_type": "markdown",
   "metadata": {},
   "source": [
    "## Task 12: Results into List"
   ]
  },
  {
   "cell_type": "code",
   "execution_count": 96,
   "metadata": {},
   "outputs": [
    {
     "name": "stdout",
     "output_type": "stream",
     "text": [
      "U://Users/efrahler/GEOG_458/Washington.shp\n",
      "U://Users/efrahler/GEOG_458/California.shp\n",
      "U://Users/efrahler/GEOG_458/Nevada.shp\n",
      "U://Users/efrahler/GEOG_458/Idaho.shp\n",
      "U://Users/efrahler/GEOG_458/Montana.shp\n",
      "U://Users/efrahler/GEOG_458/Utah.shp\n",
      "U://Users/efrahler/GEOG_458/Colorado.shp\n",
      "U://Users/efrahler/GEOG_458/New Mexico.shp\n"
     ]
    }
   ],
   "source": [
    "states = ['Washington', 'California', 'Nevada', 'Idaho', 'Montana', 'Utah', 'Colorado', 'New Mexico']\n",
    "shapefiles = [] # new empty list to add to\n",
    "for state in states:\n",
    "    shapefiles.append('U://Users/efrahler/GEOG_458/' + state + '.shp') # adds each file name to the list\n",
    "for path in shapefiles:\n",
    "    print path # prints each item in the list"
   ]
  },
  {
   "cell_type": "markdown",
   "metadata": {},
   "source": [
    "## Task 13: While-Loop"
   ]
  },
  {
   "cell_type": "code",
   "execution_count": 97,
   "metadata": {},
   "outputs": [
    {
     "name": "stdout",
     "output_type": "stream",
     "text": [
      "T-minus 10\n",
      "T-minus 9\n",
      "T-minus 8\n",
      "T-minus 7\n",
      "T-minus 6\n",
      "T-minus 5\n",
      "T-minus 4\n",
      "T-minus 3\n",
      "T-minus 2\n",
      "T-minus 1\n",
      "T-minus 0\n"
     ]
    }
   ],
   "source": [
    "count = 10\n",
    "while count >= 0: # keep going as long as count is at least 0\n",
    "    print \"T-minus \" + str(count)\n",
    "    count -= 1 # decrement count"
   ]
  },
  {
   "cell_type": "markdown",
   "metadata": {},
   "source": [
    "***\n",
    "# Functions\n",
    "## Task 14: Loop to Function"
   ]
  },
  {
   "cell_type": "code",
   "execution_count": 102,
   "metadata": {},
   "outputs": [
    {
     "name": "stdout",
     "output_type": "stream",
     "text": [
      "T-minus 5\n",
      "T-minus 4\n",
      "T-minus 3\n",
      "T-minus 2\n",
      "T-minus 1\n",
      "T-minus 0\n"
     ]
    }
   ],
   "source": [
    "def countdown(start): # creating a function called 'countdown'\n",
    "    count = start\n",
    "    while count >= 0:\n",
    "        print \"T-minus \" + str(count)\n",
    "        count -= 1 # decrement count\n",
    "        \n",
    "countdown(5) # call the function, passing 5 as the argument"
   ]
  },
  {
   "cell_type": "markdown",
   "metadata": {},
   "source": [
    "## Task 15: Conditional to Function"
   ]
  },
  {
   "cell_type": "code",
   "execution_count": 103,
   "metadata": {},
   "outputs": [
    {
     "name": "stdout",
     "output_type": "stream",
     "text": [
      "88\n",
      "4th Quartile\n"
     ]
    }
   ],
   "source": [
    "def quartile_calc(num): # creating a function called 'quartile_calc'\n",
    "    print num\n",
    "    if num < 0 | num > 100:\n",
    "        print \"Error: number out of range\"\n",
    "    elif num <= 25:\n",
    "        print \"1st Quartile\"\n",
    "    elif num <= 50:\n",
    "        print \"2nd Quartile\"\n",
    "    elif num <= 75:\n",
    "        print \"3rd Quartile\"\n",
    "    else:\n",
    "        print \"4th Quartile\"\n",
    "        \n",
    "quartile_calc(88) # call the function, passing 88 sa the argument"
   ]
  }
 ],
 "metadata": {
  "kernelspec": {
   "display_name": "Python 2",
   "language": "python",
   "name": "python2"
  },
  "language_info": {
   "codemirror_mode": {
    "name": "ipython",
    "version": 2
   },
   "file_extension": ".py",
   "mimetype": "text/x-python",
   "name": "python",
   "nbconvert_exporter": "python",
   "pygments_lexer": "ipython2",
   "version": "2.7.15"
  }
 },
 "nbformat": 4,
 "nbformat_minor": 2
}
